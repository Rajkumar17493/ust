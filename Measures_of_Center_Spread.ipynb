{
 "cells": [
  {
   "cell_type": "markdown",
   "id": "0a96fbef",
   "metadata": {},
   "source": [
    "# <font color=green><center>1. Measures of Central Tendency</font>"
   ]
  },
  {
   "cell_type": "markdown",
   "id": "efab0ffb",
   "metadata": {},
   "source": [
    "## <font color=green>Mean</font>"
   ]
  },
  {
   "cell_type": "markdown",
   "id": "50e60b4b",
   "metadata": {},
   "source": [
    "* Average Value. Simply add up all of the individual values and divide by the total number of values"
   ]
  },
  {
   "cell_type": "markdown",
   "id": "a40e06f7",
   "metadata": {},
   "source": [
    "#### Mean = (Sum of all values / Total # of values)"
   ]
  },
  {
   "cell_type": "markdown",
   "id": "5c02ace1",
   "metadata": {},
   "source": [
    "## <font color=green>Median</font>"
   ]
  },
  {
   "cell_type": "markdown",
   "id": "ac54f3c7",
   "metadata": {},
   "source": [
    "* The median is the middle value in a dataset.\n",
    "* You can find the median by arranging all the individual values in a dataset from smallest to largest and finding the middle value.\n",
    "* If there are an odd number of values, the median is the middle value.\n",
    "* If there are an even number of values, the median is the average of the two middle values."
   ]
  },
  {
   "cell_type": "markdown",
   "id": "85a530a4",
   "metadata": {},
   "source": [
    "#### Median = [(n + 1)/2]th term,   if odd"
   ]
  },
  {
   "cell_type": "markdown",
   "id": "c8ee7d98",
   "metadata": {},
   "source": [
    "#### Median = [(n/2)th term + (n/2 + 1)th term]/2,    if even"
   ]
  },
  {
   "cell_type": "markdown",
   "id": "7cba4086",
   "metadata": {},
   "source": [
    "<img src=\"https://mathlake.com/uploads/images/0cb7aa28bab39e0f962543f96bb3a191.png\">"
   ]
  },
  {
   "cell_type": "markdown",
   "id": "81dbb6ed",
   "metadata": {},
   "source": [
    "## <font color=green>Mode</font>"
   ]
  },
  {
   "cell_type": "markdown",
   "id": "5746cac3",
   "metadata": {},
   "source": [
    "* The mode is the value that occurs most often in a dataset.\n",
    "* A dataset can have no mode, one mode, or multiple modes."
   ]
  },
  {
   "cell_type": "markdown",
   "id": "f50801c2",
   "metadata": {},
   "source": [
    "<img src=\"https://www.statology.org/wp-content/uploads/2018/09/mode_bar_chart.jpg\">"
   ]
  },
  {
   "cell_type": "code",
   "execution_count": 1,
   "id": "feb47f89",
   "metadata": {},
   "outputs": [],
   "source": [
    "#import libraries\n",
    "import numpy as np\n",
    "import pandas as pd\n",
    "import statistics\n",
    "from scipy import stats"
   ]
  },
  {
   "cell_type": "code",
   "execution_count": 2,
   "id": "78db0454",
   "metadata": {},
   "outputs": [
    {
     "name": "stdout",
     "output_type": "stream",
     "text": [
      "Mean :  74.3\n"
     ]
    }
   ],
   "source": [
    "marks = np.array([68,69,69,72,73,74,75,81,81,81])\n",
    "#Using Numpy array\n",
    "print(\"Mean : \",np.mean(marks))"
   ]
  },
  {
   "cell_type": "code",
   "execution_count": 3,
   "id": "dcaf1252",
   "metadata": {},
   "outputs": [
    {
     "name": "stdout",
     "output_type": "stream",
     "text": [
      "Mean :  74.3\n",
      "\n",
      "Median :  73.5\n",
      "\n",
      "Mode :  81\n"
     ]
    }
   ],
   "source": [
    "#Using Pandas Series\n",
    "ser=pd.Series(marks)\n",
    "print(\"Mean : \",ser.mean())\n",
    "print(\"\\nMedian : \",ser.median())\n",
    "print(\"\\nMode : \",ser.mode()[0])"
   ]
  },
  {
   "cell_type": "code",
   "execution_count": 4,
   "id": "d98cdc84",
   "metadata": {},
   "outputs": [
    {
     "data": {
      "text/html": [
       "<div>\n",
       "<style scoped>\n",
       "    .dataframe tbody tr th:only-of-type {\n",
       "        vertical-align: middle;\n",
       "    }\n",
       "\n",
       "    .dataframe tbody tr th {\n",
       "        vertical-align: top;\n",
       "    }\n",
       "\n",
       "    .dataframe thead th {\n",
       "        text-align: right;\n",
       "    }\n",
       "</style>\n",
       "<table border=\"1\" class=\"dataframe\">\n",
       "  <thead>\n",
       "    <tr style=\"text-align: right;\">\n",
       "      <th></th>\n",
       "      <th>marks</th>\n",
       "    </tr>\n",
       "  </thead>\n",
       "  <tbody>\n",
       "    <tr>\n",
       "      <th>0</th>\n",
       "      <td>68</td>\n",
       "    </tr>\n",
       "    <tr>\n",
       "      <th>1</th>\n",
       "      <td>69</td>\n",
       "    </tr>\n",
       "    <tr>\n",
       "      <th>2</th>\n",
       "      <td>69</td>\n",
       "    </tr>\n",
       "    <tr>\n",
       "      <th>3</th>\n",
       "      <td>72</td>\n",
       "    </tr>\n",
       "    <tr>\n",
       "      <th>4</th>\n",
       "      <td>73</td>\n",
       "    </tr>\n",
       "    <tr>\n",
       "      <th>5</th>\n",
       "      <td>74</td>\n",
       "    </tr>\n",
       "    <tr>\n",
       "      <th>6</th>\n",
       "      <td>75</td>\n",
       "    </tr>\n",
       "    <tr>\n",
       "      <th>7</th>\n",
       "      <td>81</td>\n",
       "    </tr>\n",
       "    <tr>\n",
       "      <th>8</th>\n",
       "      <td>81</td>\n",
       "    </tr>\n",
       "    <tr>\n",
       "      <th>9</th>\n",
       "      <td>81</td>\n",
       "    </tr>\n",
       "  </tbody>\n",
       "</table>\n",
       "</div>"
      ],
      "text/plain": [
       "   marks\n",
       "0     68\n",
       "1     69\n",
       "2     69\n",
       "3     72\n",
       "4     73\n",
       "5     74\n",
       "6     75\n",
       "7     81\n",
       "8     81\n",
       "9     81"
      ]
     },
     "execution_count": 4,
     "metadata": {},
     "output_type": "execute_result"
    }
   ],
   "source": [
    "#Using Pandas Dataframe\n",
    "df1=pd.DataFrame(ser,columns=['marks'])\n",
    "df1"
   ]
  },
  {
   "cell_type": "code",
   "execution_count": 5,
   "id": "6f664a68",
   "metadata": {},
   "outputs": [
    {
     "name": "stdout",
     "output_type": "stream",
     "text": [
      "Mean :  74.3\n",
      "\n",
      "Median :  73.5\n",
      "\n",
      "Mode :  81\n"
     ]
    }
   ],
   "source": [
    "print(\"Mean : \",df1.mean()[0])\n",
    "print(\"\\nMedian : \",df1.median()[0])\n",
    "print(\"\\nMode : \",df1.mode()['marks'][0])"
   ]
  },
  {
   "cell_type": "code",
   "execution_count": 6,
   "id": "9dac8a34",
   "metadata": {},
   "outputs": [
    {
     "data": {
      "text/html": [
       "<div>\n",
       "<style scoped>\n",
       "    .dataframe tbody tr th:only-of-type {\n",
       "        vertical-align: middle;\n",
       "    }\n",
       "\n",
       "    .dataframe tbody tr th {\n",
       "        vertical-align: top;\n",
       "    }\n",
       "\n",
       "    .dataframe thead th {\n",
       "        text-align: right;\n",
       "    }\n",
       "</style>\n",
       "<table border=\"1\" class=\"dataframe\">\n",
       "  <thead>\n",
       "    <tr style=\"text-align: right;\">\n",
       "      <th></th>\n",
       "      <th>Animal</th>\n",
       "      <th>Max Speed</th>\n",
       "    </tr>\n",
       "  </thead>\n",
       "  <tbody>\n",
       "    <tr>\n",
       "      <th>0</th>\n",
       "      <td>Falcon</td>\n",
       "      <td>380.0</td>\n",
       "    </tr>\n",
       "    <tr>\n",
       "      <th>1</th>\n",
       "      <td>Falcon</td>\n",
       "      <td>370.0</td>\n",
       "    </tr>\n",
       "    <tr>\n",
       "      <th>2</th>\n",
       "      <td>Parrot</td>\n",
       "      <td>24.0</td>\n",
       "    </tr>\n",
       "    <tr>\n",
       "      <th>3</th>\n",
       "      <td>Parrot</td>\n",
       "      <td>26.0</td>\n",
       "    </tr>\n",
       "  </tbody>\n",
       "</table>\n",
       "</div>"
      ],
      "text/plain": [
       "   Animal  Max Speed\n",
       "0  Falcon      380.0\n",
       "1  Falcon      370.0\n",
       "2  Parrot       24.0\n",
       "3  Parrot       26.0"
      ]
     },
     "execution_count": 6,
     "metadata": {},
     "output_type": "execute_result"
    }
   ],
   "source": [
    "df2 = pd.DataFrame({'Animal': ['Falcon', 'Falcon', 'Parrot', 'Parrot'],\n",
    "                   'Max Speed': [380., 370., 24., 26.]})\n",
    "df2"
   ]
  },
  {
   "cell_type": "code",
   "execution_count": 7,
   "id": "3ae91538",
   "metadata": {},
   "outputs": [
    {
     "name": "stdout",
     "output_type": "stream",
     "text": [
      "Mean : \n",
      "         Max Speed\n",
      "Animal           \n",
      "Falcon      375.0\n",
      "Parrot       25.0 \n",
      "\n",
      "\n",
      "Median : \n",
      "         Max Speed\n",
      "Animal           \n",
      "Falcon      375.0\n",
      "Parrot       25.0\n"
     ]
    }
   ],
   "source": [
    "print(\"Mean : \\n\",df2.groupby(['Animal']).mean(),'\\n')\n",
    "print(\"\\nMedian : \\n\",df2.groupby(['Animal']).median())"
   ]
  },
  {
   "cell_type": "code",
   "execution_count": 8,
   "id": "6032df54",
   "metadata": {},
   "outputs": [
    {
     "name": "stdout",
     "output_type": "stream",
     "text": [
      "Mean :  74\n",
      "\n",
      "Median :  73.5\n",
      "\n",
      "Mode :  81\n"
     ]
    }
   ],
   "source": [
    "#Using Statistics\n",
    "print(\"Mean : \",statistics.mean(marks))\n",
    "print(\"\\nMedian : \",statistics.median(marks))\n",
    "print(\"\\nMode : \",statistics.mode(marks))"
   ]
  },
  {
   "cell_type": "code",
   "execution_count": 9,
   "id": "37f6d741",
   "metadata": {},
   "outputs": [
    {
     "name": "stdout",
     "output_type": "stream",
     "text": [
      "Mode :  ModeResult(mode=81, count=3)\n"
     ]
    }
   ],
   "source": [
    "#Using scipy.stats\n",
    "print(\"Mode : \",stats.mode(marks,keepdims=False))"
   ]
  },
  {
   "cell_type": "markdown",
   "id": "fe68c4f5",
   "metadata": {},
   "source": [
    "## Mean Vs Median Vs Mode"
   ]
  },
  {
   "cell_type": "markdown",
   "id": "b286b372",
   "metadata": {},
   "source": [
    "<img src=\"https://einstein.com.sg/wp-content/uploads/2020/08/Mean-Median-Mode-Diagrams-1024x329.jpg\">"
   ]
  },
  {
   "cell_type": "markdown",
   "id": "34ad55e5",
   "metadata": {},
   "source": [
    "# <font color=green><center>2. Measures of Spread</font>"
   ]
  },
  {
   "cell_type": "markdown",
   "id": "7760c90d",
   "metadata": {},
   "source": [
    "## <font color=green>Range</font>"
   ]
  },
  {
   "cell_type": "markdown",
   "id": "ba119a46",
   "metadata": {},
   "source": [
    "* The range is the difference between the largest and smallest value in a dataset."
   ]
  },
  {
   "cell_type": "markdown",
   "id": "26c9a290",
   "metadata": {},
   "source": [
    "#### Range = Largest Value - Smallest Value"
   ]
  },
  {
   "cell_type": "code",
   "execution_count": 10,
   "id": "f0241edd",
   "metadata": {},
   "outputs": [
    {
     "data": {
      "text/plain": [
       "80"
      ]
     },
     "execution_count": 10,
     "metadata": {},
     "output_type": "execute_result"
    }
   ],
   "source": [
    "marks = np.array([40,68,69,69,72,73,74,75,81,81,81,85,120])\n",
    "r = np.max(marks)-np.min(marks)\n",
    "r"
   ]
  },
  {
   "cell_type": "markdown",
   "id": "c22d30b3",
   "metadata": {},
   "source": [
    "### Quantile Vs Quartile Vs Percentile"
   ]
  },
  {
   "cell_type": "markdown",
   "id": "1d02e364",
   "metadata": {},
   "source": [
    "__Quantile__ : Quantile is a statistical measure that divides a set of data into equal-sized intervals or subsets."
   ]
  },
  {
   "cell_type": "markdown",
   "id": "0c210f45",
   "metadata": {},
   "source": [
    "##### The most commonly used quantiles are:"
   ]
  },
  {
   "cell_type": "markdown",
   "id": "9cbb0bc6",
   "metadata": {},
   "source": [
    "* __Median__ : The median is the quantile that separates the data into two equal-sized subsets (50th percentile)"
   ]
  },
  {
   "cell_type": "markdown",
   "id": "f450368c",
   "metadata": {},
   "source": [
    "*  __Quartile__ : Quartiles divide the data into four equal-sized subsets. The first quartile (Q1), is the 25th percentile, meaning that 25% of the data points are below it."
   ]
  },
  {
   "cell_type": "markdown",
   "id": "ba75375d",
   "metadata": {},
   "source": [
    "* __Percentile__ : Percentiles divide the data into 100 equal-sized subsets. 90th percentile represents the value below which 90% of the data falls."
   ]
  },
  {
   "cell_type": "code",
   "execution_count": 11,
   "id": "31be45df",
   "metadata": {},
   "outputs": [
    {
     "data": {
      "text/plain": [
       "40"
      ]
     },
     "execution_count": 11,
     "metadata": {},
     "output_type": "execute_result"
    }
   ],
   "source": [
    "q0=np.quantile(a=marks,q=0)\n",
    "q0"
   ]
  },
  {
   "cell_type": "code",
   "execution_count": 12,
   "id": "ef5df27a",
   "metadata": {},
   "outputs": [
    {
     "data": {
      "text/plain": [
       "69.0"
      ]
     },
     "execution_count": 12,
     "metadata": {},
     "output_type": "execute_result"
    }
   ],
   "source": [
    "q1=np.quantile(a=marks,q=0.25)\n",
    "q1"
   ]
  },
  {
   "cell_type": "code",
   "execution_count": 13,
   "id": "63579bb0",
   "metadata": {},
   "outputs": [
    {
     "data": {
      "text/plain": [
       "74.0"
      ]
     },
     "execution_count": 13,
     "metadata": {},
     "output_type": "execute_result"
    }
   ],
   "source": [
    "q2=np.quantile(a=marks,q=0.5)\n",
    "q2"
   ]
  },
  {
   "cell_type": "code",
   "execution_count": 14,
   "id": "d91e09a5",
   "metadata": {},
   "outputs": [
    {
     "data": {
      "text/plain": [
       "84.2"
      ]
     },
     "execution_count": 14,
     "metadata": {},
     "output_type": "execute_result"
    }
   ],
   "source": [
    "q3=np.quantile(a=marks,q=0.9)\n",
    "q3"
   ]
  },
  {
   "cell_type": "code",
   "execution_count": 15,
   "id": "a5c4e0aa",
   "metadata": {},
   "outputs": [
    {
     "data": {
      "text/plain": [
       "120"
      ]
     },
     "execution_count": 15,
     "metadata": {},
     "output_type": "execute_result"
    }
   ],
   "source": [
    "q4=np.quantile(a=marks,q=1)\n",
    "q4"
   ]
  },
  {
   "cell_type": "code",
   "execution_count": 16,
   "id": "f47cae60",
   "metadata": {},
   "outputs": [
    {
     "data": {
      "text/plain": [
       "69.0"
      ]
     },
     "execution_count": 16,
     "metadata": {},
     "output_type": "execute_result"
    }
   ],
   "source": [
    "ser=pd.Series(marks)\n",
    "ser.quantile(0.25)"
   ]
  },
  {
   "cell_type": "code",
   "execution_count": 17,
   "id": "563431d1",
   "metadata": {},
   "outputs": [
    {
     "data": {
      "text/plain": [
       "69.0"
      ]
     },
     "execution_count": 17,
     "metadata": {},
     "output_type": "execute_result"
    }
   ],
   "source": [
    "df1=pd.DataFrame(ser,columns=['marks'])\n",
    "df1.quantile(0.25)[0]"
   ]
  },
  {
   "cell_type": "code",
   "execution_count": 18,
   "id": "060ee245",
   "metadata": {},
   "outputs": [
    {
     "data": {
      "text/plain": [
       "[71.0, 81.0]"
      ]
     },
     "execution_count": 18,
     "metadata": {},
     "output_type": "execute_result"
    }
   ],
   "source": [
    "statistics.quantiles(data=marks,n=3)"
   ]
  },
  {
   "cell_type": "markdown",
   "id": "131cc3f2",
   "metadata": {},
   "source": [
    "## <font color=green>Interquartile Range</font>"
   ]
  },
  {
   "cell_type": "markdown",
   "id": "fa2a533f",
   "metadata": {},
   "source": [
    "* IQR gives you the spread of the middle of your distribution."
   ]
  },
  {
   "cell_type": "markdown",
   "id": "50e0ca46",
   "metadata": {},
   "source": [
    "* The interquartile range is the difference between the first quartile and the third quartile in a dataset."
   ]
  },
  {
   "cell_type": "markdown",
   "id": "b94a2855",
   "metadata": {},
   "source": [
    "#### IQR = Q3 - Q1"
   ]
  },
  {
   "cell_type": "code",
   "execution_count": 19,
   "id": "899e0b12",
   "metadata": {},
   "outputs": [
    {
     "data": {
      "text/plain": [
       "array([ 40, 120])"
      ]
     },
     "execution_count": 19,
     "metadata": {},
     "output_type": "execute_result"
    }
   ],
   "source": [
    "IQR = q3-q1\n",
    "outliers=marks[(marks<q1-1.5*IQR) | (marks>q3+1.5*IQR)]\n",
    "outliers"
   ]
  },
  {
   "cell_type": "code",
   "execution_count": 20,
   "id": "c43af960",
   "metadata": {},
   "outputs": [
    {
     "data": {
      "image/png": "[encoded data removed]",
      "text/plain": [
       "<Figure size 640x480 with 1 Axes>"
      ]
     },
     "metadata": {},
     "output_type": "display_data"
    }
   ],
   "source": [
    "import seaborn as sns\n",
    "import matplotlib.pyplot as plt\n",
    "sns.boxplot(x=marks)\n",
    "plt.show()"
   ]
  },
  {
   "cell_type": "code",
   "execution_count": 21,
   "id": "02aefb07",
   "metadata": {},
   "outputs": [
    {
     "data": {
      "image/png": "[encoded data removed]",
      "text/plain": [
       "<Figure size 640x480 with 1 Axes>"
      ]
     },
     "metadata": {},
     "output_type": "display_data"
    }
   ],
   "source": [
    "sns.histplot(marks)\n",
    "plt.show()"
   ]
  },
  {
   "cell_type": "markdown",
   "id": "ef3aef57",
   "metadata": {},
   "source": [
    "<img src=\"https://cdn.lecturio.com/assets/Measures-of-Central-Tendency-and-Dispersion.png\">"
   ]
  },
  {
   "cell_type": "markdown",
   "id": "a265c7ea",
   "metadata": {},
   "source": [
    "## <font color=green>Variance</font>"
   ]
  },
  {
   "cell_type": "markdown",
   "id": "0a93c895",
   "metadata": {},
   "source": [
    "* Variance is a statistical measure that quantifies how much the values in a data set deviate from the mean."
   ]
  },
  {
   "cell_type": "markdown",
   "id": "deed6270",
   "metadata": {},
   "source": [
    "* __A high variance__ : Values are widely spread out around the mean."
   ]
  },
  {
   "cell_type": "markdown",
   "id": "3c211574",
   "metadata": {},
   "source": [
    "* __A low variance__ : Values are closely packed around the mean."
   ]
  },
  {
   "cell_type": "markdown",
   "id": "260354a7",
   "metadata": {},
   "source": [
    "<img src=\"https://cdn.scribbr.com/wp-content/uploads/2021/12/variability-in-normal-distributions-1.png\">"
   ]
  },
  {
   "cell_type": "markdown",
   "id": "93175dc3",
   "metadata": {},
   "source": [
    "<img src = \"https://www.scribbr.de/wp-content/uploads/2021/12/box-and-whisker-plot.png\">"
   ]
  },
  {
   "cell_type": "markdown",
   "id": "2514a9d6",
   "metadata": {},
   "source": [
    "<img src=\"https://www.onlinemathlearning.com/image-files/population-variance.png\">"
   ]
  },
  {
   "cell_type": "code",
   "execution_count": 22,
   "id": "e2ad60bc",
   "metadata": {},
   "outputs": [],
   "source": [
    "import statistics\n",
    "data = [2.74, 1.23, 2.63, 2.22, 3, 1.98]"
   ]
  },
  {
   "cell_type": "code",
   "execution_count": 23,
   "id": "d5088c6a",
   "metadata": {},
   "outputs": [
    {
     "data": {
      "text/plain": [
       "0.40924"
      ]
     },
     "execution_count": 23,
     "metadata": {},
     "output_type": "execute_result"
    }
   ],
   "source": [
    "#sample variance\n",
    "statistics.variance(data)"
   ]
  },
  {
   "cell_type": "code",
   "execution_count": 24,
   "id": "dc383646",
   "metadata": {},
   "outputs": [
    {
     "data": {
      "text/plain": [
       "0.34103333333333335"
      ]
     },
     "execution_count": 24,
     "metadata": {},
     "output_type": "execute_result"
    }
   ],
   "source": [
    "#population variance\n",
    "statistics.pvariance(data)"
   ]
  },
  {
   "cell_type": "code",
   "execution_count": 25,
   "id": "e5ffffc1",
   "metadata": {},
   "outputs": [
    {
     "data": {
      "text/plain": [
       "0.40924000000000005"
      ]
     },
     "execution_count": 25,
     "metadata": {},
     "output_type": "execute_result"
    }
   ],
   "source": [
    "#sample variance\n",
    "np.var(data,ddof=1)"
   ]
  },
  {
   "cell_type": "code",
   "execution_count": 26,
   "id": "dd7c54d6",
   "metadata": {},
   "outputs": [
    {
     "data": {
      "text/plain": [
       "0.34103333333333335"
      ]
     },
     "execution_count": 26,
     "metadata": {},
     "output_type": "execute_result"
    }
   ],
   "source": [
    "#population variance\n",
    "np.var(data)"
   ]
  },
  {
   "cell_type": "code",
   "execution_count": 27,
   "id": "8bda5752",
   "metadata": {},
   "outputs": [
    {
     "data": {
      "text/plain": [
       "0.40924000000000005"
      ]
     },
     "execution_count": 27,
     "metadata": {},
     "output_type": "execute_result"
    }
   ],
   "source": [
    "#sample variance\n",
    "ser = pd.Series(data)\n",
    "ser.var(ddof=1)"
   ]
  },
  {
   "cell_type": "code",
   "execution_count": 28,
   "id": "4fea3928",
   "metadata": {},
   "outputs": [
    {
     "data": {
      "text/plain": [
       "0.34103333333333335"
      ]
     },
     "execution_count": 28,
     "metadata": {},
     "output_type": "execute_result"
    }
   ],
   "source": [
    "#population variance\n",
    "ser.var(ddof=0)"
   ]
  },
  {
   "cell_type": "code",
   "execution_count": 29,
   "id": "45676860",
   "metadata": {},
   "outputs": [
    {
     "data": {
      "text/plain": [
       "0.40924000000000005"
      ]
     },
     "execution_count": 29,
     "metadata": {},
     "output_type": "execute_result"
    }
   ],
   "source": [
    "#sample variance\n",
    "df=pd.DataFrame(ser)\n",
    "df.var(ddof=1)[0]"
   ]
  },
  {
   "cell_type": "code",
   "execution_count": 30,
   "id": "43296192",
   "metadata": {},
   "outputs": [
    {
     "data": {
      "text/plain": [
       "0.34103333333333335"
      ]
     },
     "execution_count": 30,
     "metadata": {},
     "output_type": "execute_result"
    }
   ],
   "source": [
    "#population variance\n",
    "df=pd.DataFrame(ser)\n",
    "df.var(ddof=0)[0]"
   ]
  },
  {
   "cell_type": "markdown",
   "id": "2f47bade",
   "metadata": {},
   "source": [
    "## <font color=green>Standard Deviation</font>"
   ]
  },
  {
   "cell_type": "markdown",
   "id": "59450370",
   "metadata": {},
   "source": [
    "* The standard deviation is a measure of the amount of variation or dispersion of a set of values"
   ]
  },
  {
   "cell_type": "markdown",
   "id": "0b21a0cc",
   "metadata": {},
   "source": [
    "* Unit of Standard deviation is same as unit of data points, whereas Variance is squared value."
   ]
  },
  {
   "cell_type": "markdown",
   "id": "8d7e115d",
   "metadata": {},
   "source": [
    "<img src=\"https://www.k2analytics.co.in/wp-content/uploads/2020/05/standard-deviation.png\">"
   ]
  },
  {
   "cell_type": "markdown",
   "id": "a340ba3a",
   "metadata": {},
   "source": [
    "<img src=\"https://d20khd7ddkh5ls.cloudfront.net/high_low_standard_deviation.png\">"
   ]
  },
  {
   "cell_type": "code",
   "execution_count": 31,
   "id": "c6aea1a8",
   "metadata": {},
   "outputs": [
    {
     "data": {
      "text/plain": [
       "0.639718688174732"
      ]
     },
     "execution_count": 31,
     "metadata": {},
     "output_type": "execute_result"
    }
   ],
   "source": [
    "#sample variance\n",
    "statistics.stdev(data)"
   ]
  },
  {
   "cell_type": "code",
   "execution_count": 32,
   "id": "e6329031",
   "metadata": {},
   "outputs": [
    {
     "data": {
      "text/plain": [
       "0.5839805932848569"
      ]
     },
     "execution_count": 32,
     "metadata": {},
     "output_type": "execute_result"
    }
   ],
   "source": [
    "#population variance\n",
    "statistics.pstdev(data)"
   ]
  },
  {
   "cell_type": "code",
   "execution_count": 33,
   "id": "4d2c53b1",
   "metadata": {},
   "outputs": [
    {
     "data": {
      "text/plain": [
       "0.639718688174732"
      ]
     },
     "execution_count": 33,
     "metadata": {},
     "output_type": "execute_result"
    }
   ],
   "source": [
    "#sample variance\n",
    "np.std(data,ddof=1)"
   ]
  },
  {
   "cell_type": "code",
   "execution_count": 34,
   "id": "fccc6e14",
   "metadata": {},
   "outputs": [
    {
     "data": {
      "text/plain": [
       "0.5839805932848569"
      ]
     },
     "execution_count": 34,
     "metadata": {},
     "output_type": "execute_result"
    }
   ],
   "source": [
    "#population variance\n",
    "np.std(data,ddof=0)"
   ]
  },
  {
   "cell_type": "code",
   "execution_count": 35,
   "id": "8a6764e7",
   "metadata": {},
   "outputs": [
    {
     "data": {
      "text/plain": [
       "0.639718688174732"
      ]
     },
     "execution_count": 35,
     "metadata": {},
     "output_type": "execute_result"
    }
   ],
   "source": [
    "#sample variance\n",
    "ser = pd.Series(data)\n",
    "ser.std(ddof=1)"
   ]
  },
  {
   "cell_type": "code",
   "execution_count": 36,
   "id": "82bb8f82",
   "metadata": {},
   "outputs": [
    {
     "data": {
      "text/plain": [
       "0.5839805932848569"
      ]
     },
     "execution_count": 36,
     "metadata": {},
     "output_type": "execute_result"
    }
   ],
   "source": [
    "#population variance\n",
    "ser.std(ddof=0)"
   ]
  },
  {
   "cell_type": "code",
   "execution_count": 37,
   "id": "fb8356f4",
   "metadata": {},
   "outputs": [
    {
     "data": {
      "text/plain": [
       "0.639718688174732"
      ]
     },
     "execution_count": 37,
     "metadata": {},
     "output_type": "execute_result"
    }
   ],
   "source": [
    "#sample variance\n",
    "df=pd.DataFrame(ser)\n",
    "df.std(ddof=1)[0]"
   ]
  },
  {
   "cell_type": "code",
   "execution_count": 38,
   "id": "b29fcc4f",
   "metadata": {},
   "outputs": [
    {
     "data": {
      "text/plain": [
       "0.5839805932848569"
      ]
     },
     "execution_count": 38,
     "metadata": {},
     "output_type": "execute_result"
    }
   ],
   "source": [
    "#population variance\n",
    "df=pd.DataFrame(ser)\n",
    "df.std(ddof=0)[0]"
   ]
  }
 ],
 "metadata": {
  "kernelspec": {
   "display_name": "Python 3 (ipykernel)",
   "language": "python",
   "name": "python3"
  },
  "language_info": {
   "codemirror_mode": {
    "name": "ipython",
    "version": 3
   },
   "file_extension": ".py",
   "mimetype": "text/x-python",
   "name": "python",
   "nbconvert_exporter": "python",
   "pygments_lexer": "ipython3",
   "version": "3.9.13"
  }
 },
 "nbformat": 4,
 "nbformat_minor": 5
}
