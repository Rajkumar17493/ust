{
 "cells": [
  {
   "cell_type": "markdown",
   "id": "0a96fbef",
   "metadata": {},
   "source": [
    "# <font color=green><center>Measure of Chance - Probability</font>"
   ]
  },
  {
   "cell_type": "markdown",
   "id": "64f3d0db",
   "metadata": {},
   "source": [
    "Probabilities are used to quantify the likelihood of events occurring"
   ]
  },
  {
   "cell_type": "markdown",
   "id": "24c1457a",
   "metadata": {},
   "source": [
    "__Examples__ : "
   ]
  },
  {
   "cell_type": "markdown",
   "id": "596d4651",
   "metadata": {},
   "source": [
    "* There is an 80% chance of rain today between 2PM and 5PM”"
   ]
  },
  {
   "cell_type": "markdown",
   "id": "1edec2ed",
   "metadata": {},
   "source": [
    "* Team A has a 90% probability of winning while team B has just a 10% probability of winning."
   ]
  },
  {
   "cell_type": "markdown",
   "id": "b7a86620",
   "metadata": {},
   "source": [
    "* Probability of selling at least 100 products on a certain day is 90%."
   ]
  },
  {
   "cell_type": "markdown",
   "id": "efab0ffb",
   "metadata": {},
   "source": [
    "## <font color=Green>Theoretical Probability</font>"
   ]
  },
  {
   "cell_type": "markdown",
   "id": "71c14508",
   "metadata": {},
   "source": [
    "* TP is the likelihood that an event will happen based on pure mathematics."
   ]
  },
  {
   "cell_type": "markdown",
   "id": "2d01c3ac",
   "metadata": {},
   "source": [
    "### P(A) = Number of Desired Outcomes / Total number of possible outcomes"
   ]
  },
  {
   "cell_type": "markdown",
   "id": "42c96e6b",
   "metadata": {},
   "source": [
    "__Ex__ : Theoretical probability that a dice lands on “2” after one roll : __1/6 = 0.167__"
   ]
  },
  {
   "cell_type": "markdown",
   "id": "86f1507a",
   "metadata": {},
   "source": [
    "## <font color=Green>Empirical Probability</font>"
   ]
  },
  {
   "cell_type": "markdown",
   "id": "067d886d",
   "metadata": {},
   "source": [
    "* EP is the actual probability of an event occuring that you directly observe in an experiment."
   ]
  },
  {
   "cell_type": "markdown",
   "id": "10458c57",
   "metadata": {},
   "source": [
    "### P(A) = Number of times event occurs / Total number of trials"
   ]
  },
  {
   "cell_type": "markdown",
   "id": "bc040478",
   "metadata": {},
   "source": [
    "__Ex1__ : In a group of 50 people, 32 people chose to order non-veg burgers over the veg. What is the empirical probability of someone ordering veg burgers? = __18/50__"
   ]
  },
  {
   "cell_type": "markdown",
   "id": "c064ec5f",
   "metadata": {},
   "source": [
    "__Ex2__ : Suppose we toss a coin 15 times and it shows up Head 7 times : 7/15"
   ]
  },
  {
   "cell_type": "code",
   "execution_count": 1,
   "id": "903e106b",
   "metadata": {},
   "outputs": [
    {
     "data": {
      "text/plain": [
       "0.4666666666666667"
      ]
     },
     "execution_count": 1,
     "metadata": {},
     "output_type": "execute_result"
    }
   ],
   "source": [
    "7/15"
   ]
  },
  {
   "cell_type": "markdown",
   "id": "30e0fbae",
   "metadata": {},
   "source": [
    "## <font color=Green>Subjective Probability</font>"
   ]
  },
  {
   "cell_type": "markdown",
   "id": "cb1dba7f",
   "metadata": {},
   "source": [
    "* This method involves using personal judgments or opinions to estimate probabilities, based on subjective assessments of the likelihood of an event occurring."
   ]
  },
  {
   "cell_type": "markdown",
   "id": "1ce34e30",
   "metadata": {},
   "source": [
    "* It is often used in situations where data or information is limited or unavailable, and relies on individual expertise or intuition."
   ]
  },
  {
   "cell_type": "markdown",
   "id": "75b61d8b",
   "metadata": {},
   "source": [
    "## <font color=Green>Simulation</font>"
   ]
  },
  {
   "cell_type": "markdown",
   "id": "d62a253e",
   "metadata": {},
   "source": [
    "* Simulations can be used to simulate random events and generate outcomes to estimate probabilities"
   ]
  },
  {
   "cell_type": "markdown",
   "id": "38197372",
   "metadata": {},
   "source": [
    "#### Monte-Carlo Simulation"
   ]
  },
  {
   "cell_type": "code",
   "execution_count": 15,
   "id": "7015d9e0",
   "metadata": {},
   "outputs": [],
   "source": [
    "import random\n",
    "def unbiased_coin_toss():\n",
    "    # Generate a random number from 0 to 1\n",
    "    x = random.uniform(0, 1)\n",
    "    # Probability that the number falls between 0 and 0.5 is 1/2\n",
    "    if x > 0.5:\n",
    "        # Heads for True\n",
    "        return True\n",
    "    else:\n",
    "        # Tails for False\n",
    "        return False\n",
    "def simulate(n):\n",
    "    prob = []\n",
    "    # Make n experiments\n",
    "    for i in range(n):\n",
    "        # Each experiment have 10 coin tosses\n",
    "        N = 10\n",
    "        results = []\n",
    "        # Toss the coin 10 times and store that in a list\n",
    "        for i in range(N):\n",
    "            result = unbiased_coin_toss()\n",
    "            results.append(result)\n",
    "        n_heads = sum(results)\n",
    "        p_heads = n_heads/N\n",
    "        prob.append(p_heads)\n",
    "        # average the probability of heads over n experiments\n",
    "    return sum(prob)/n"
   ]
  },
  {
   "cell_type": "code",
   "execution_count": 14,
   "id": "acf8e26f",
   "metadata": {},
   "outputs": [
    {
     "data": {
      "text/plain": [
       "0.3677174955179946"
      ]
     },
     "execution_count": 14,
     "metadata": {},
     "output_type": "execute_result"
    }
   ],
   "source": [
    "random.uniform(0, 1)"
   ]
  },
  {
   "cell_type": "code",
   "execution_count": 16,
   "id": "49546b9a",
   "metadata": {},
   "outputs": [
    {
     "data": {
      "text/plain": [
       "0.45"
      ]
     },
     "execution_count": 16,
     "metadata": {},
     "output_type": "execute_result"
    }
   ],
   "source": [
    "simulate(10)"
   ]
  },
  {
   "cell_type": "code",
   "execution_count": 17,
   "id": "8416146b",
   "metadata": {},
   "outputs": [
    {
     "data": {
      "text/plain": [
       "0.5180000000000002"
      ]
     },
     "execution_count": 17,
     "metadata": {},
     "output_type": "execute_result"
    }
   ],
   "source": [
    "simulate(100)"
   ]
  },
  {
   "cell_type": "code",
   "execution_count": 27,
   "id": "e7ef8e6b",
   "metadata": {},
   "outputs": [
    {
     "data": {
      "text/plain": [
       "0.49789999999999934"
      ]
     },
     "execution_count": 27,
     "metadata": {},
     "output_type": "execute_result"
    }
   ],
   "source": [
    "simulate(1000)"
   ]
  },
  {
   "cell_type": "code",
   "execution_count": 40,
   "id": "80389b04",
   "metadata": {},
   "outputs": [
    {
     "data": {
      "text/plain": [
       "0.5014"
      ]
     },
     "execution_count": 40,
     "metadata": {},
     "output_type": "execute_result"
    }
   ],
   "source": [
    "simulate(10000)"
   ]
  },
  {
   "cell_type": "markdown",
   "id": "5481f3f6",
   "metadata": {},
   "source": [
    "## <font color=Green>Bayesian Probability</font>"
   ]
  },
  {
   "cell_type": "markdown",
   "id": "9563e375",
   "metadata": {},
   "source": [
    "* Bayesian probability is a type of probability that is updated based on new evidence or data, and "
   ]
  },
  {
   "cell_type": "markdown",
   "id": "a9d73d9d",
   "metadata": {},
   "source": [
    "* It is commonly used in statistical inference, risk assessment, decision making, and machine learning."
   ]
  }
 ],
 "metadata": {
  "kernelspec": {
   "display_name": "Python 3 (ipykernel)",
   "language": "python",
   "name": "python3"
  },
  "language_info": {
   "codemirror_mode": {
    "name": "ipython",
    "version": 3
   },
   "file_extension": ".py",
   "mimetype": "text/x-python",
   "name": "python",
   "nbconvert_exporter": "python",
   "pygments_lexer": "ipython3",
   "version": "3.9.13"
  }
 },
 "nbformat": 4,
 "nbformat_minor": 5
}
