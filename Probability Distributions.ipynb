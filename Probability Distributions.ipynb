{
 "cells": [
  {
   "cell_type": "markdown",
   "id": "0a96fbef",
   "metadata": {},
   "source": [
    "# <font color=green><center>Probability Distributions</font>"
   ]
  },
  {
   "cell_type": "markdown",
   "id": "f47248b6",
   "metadata": {},
   "source": [
    "* A probability distribution is a mathematical function that describes the probability of different possible values of a variable."
   ]
  },
  {
   "cell_type": "markdown",
   "id": "d51f10bc",
   "metadata": {},
   "source": [
    "* They are used in statistics and probability theory to model and analyze various real-world phenomena and make predictions."
   ]
  },
  {
   "cell_type": "markdown",
   "id": "efab0ffb",
   "metadata": {},
   "source": [
    "## <font color=Green>Random Variable</font>"
   ]
  },
  {
   "cell_type": "markdown",
   "id": "a3d6d3af",
   "metadata": {},
   "source": [
    "* A random variable (X), is a variable whose possible values are outcomes of a random process."
   ]
  },
  {
   "cell_type": "markdown",
   "id": "eabb137a",
   "metadata": {},
   "source": [
    "#### Discrete Random Variables"
   ]
  },
  {
   "cell_type": "markdown",
   "id": "0bdbe5af",
   "metadata": {},
   "source": [
    "* A discrete random variable is a variable which can take on only a countable number of distinct values like 0, 1, 2, 3, 4, 5…100, 1 million"
   ]
  },
  {
   "cell_type": "markdown",
   "id": "799e9f8d",
   "metadata": {},
   "source": [
    "__Ex__ : The number of times a coin lands on tails after being flipped 20 times"
   ]
  },
  {
   "cell_type": "markdown",
   "id": "83a673b5",
   "metadata": {},
   "source": [
    "#### Continuous Random Variables"
   ]
  },
  {
   "cell_type": "markdown",
   "id": "98a97a75",
   "metadata": {},
   "source": [
    "* A continuous random variable is a variable which can take on an infinite number of possible values. "
   ]
  },
  {
   "cell_type": "markdown",
   "id": "1d626e3c",
   "metadata": {},
   "source": [
    "__Ex__ : The height of a person could be 60.2 inches, 65.2344 inches, 70.431222 inches,"
   ]
  },
  {
   "cell_type": "markdown",
   "id": "44ecfb4c",
   "metadata": {},
   "source": [
    "## <font color=Green>Discrete Probability Distributions</font>"
   ]
  },
  {
   "cell_type": "markdown",
   "id": "2e2737a9",
   "metadata": {},
   "source": [
    "* Bernoulli Distribution"
   ]
  },
  {
   "cell_type": "markdown",
   "id": "02ab1bb8",
   "metadata": {},
   "source": [
    "* Binomial Distribution"
   ]
  },
  {
   "cell_type": "markdown",
   "id": "cae7c615",
   "metadata": {},
   "source": [
    "* Poisson Distribution"
   ]
  },
  {
   "cell_type": "markdown",
   "id": "7712e616",
   "metadata": {},
   "source": [
    "## <font color=Green>Continuous Probability Distributions</font>"
   ]
  },
  {
   "cell_type": "markdown",
   "id": "f105b3ee",
   "metadata": {},
   "source": [
    "* Normal Distribution"
   ]
  },
  {
   "cell_type": "markdown",
   "id": "2ecd41f4",
   "metadata": {},
   "source": [
    "* Uniform Distribution"
   ]
  },
  {
   "cell_type": "markdown",
   "id": "ae1edc54",
   "metadata": {},
   "source": [
    "* Exponential Distribution"
   ]
  },
  {
   "cell_type": "markdown",
   "id": "56284c60",
   "metadata": {},
   "source": [
    "### Bernoulli Distribution"
   ]
  },
  {
   "cell_type": "markdown",
   "id": "4bf902fb",
   "metadata": {},
   "source": [
    "* It is a discrete probability distribution that models a random experiment with two possible outcomes: success (1) and failure (0)."
   ]
  },
  {
   "cell_type": "markdown",
   "id": "8da984c4",
   "metadata": {},
   "source": [
    "__Coin tosses:__ Record how many coins land heads up and how many land tails up."
   ]
  },
  {
   "cell_type": "markdown",
   "id": "f8ea20b6",
   "metadata": {},
   "source": [
    "__Births:__ How many boys are born and how many girls are born each day."
   ]
  },
  {
   "cell_type": "markdown",
   "id": "887a96be",
   "metadata": {},
   "source": [
    "<img src=\"https://www.ztable.net/wp-content/uploads/2020/10/bernoulli-distribution-pdf-formula.png\">"
   ]
  },
  {
   "cell_type": "code",
   "execution_count": 1,
   "id": "10edea6a",
   "metadata": {},
   "outputs": [],
   "source": [
    "from scipy.stats import bernoulli\n",
    "import matplotlib.pyplot as plt\n",
    "import seaborn as sns"
   ]
  },
  {
   "cell_type": "code",
   "execution_count": 2,
   "id": "39450622",
   "metadata": {},
   "outputs": [
    {
     "data": {
      "image/png": "[encoded data removed]",
      "text/plain": [
       "<Figure size 640x480 with 1 Axes>"
      ]
     },
     "metadata": {},
     "output_type": "display_data"
    }
   ],
   "source": [
    "#Coin toss\n",
    "ber=bernoulli(p=0.5)\n",
    "x=[0,1]\n",
    "sns.barplot(x=x,y=ber.pmf(x))\n",
    "plt.xlim(-1, 2)\n",
    "plt.xlabel('Values of random variable x (0, 1)', fontsize='10')\n",
    "plt.ylabel('Probability', fontsize='10')\n",
    "plt.show()"
   ]
  },
  {
   "cell_type": "markdown",
   "id": "b1ed2a89",
   "metadata": {},
   "source": [
    "<img src=\"https://www.researchgate.net/profile/Otilia-Barbu/publication/279645379/figure/fig3/AS:667643484860420@1536190019630/Bernoulli-Distribution-Probability-Density-Function-PDF-f0-1-p-f1-p-varies.ppm\">"
   ]
  },
  {
   "cell_type": "markdown",
   "id": "17f2ffbd",
   "metadata": {},
   "source": [
    "### Binomial Distribution"
   ]
  },
  {
   "cell_type": "markdown",
   "id": "c99d64be",
   "metadata": {},
   "source": [
    "* The Binomial distribution represents the probability of success or failure of an experiment repeated multiple times or n independent Bernoulli trials."
   ]
  },
  {
   "cell_type": "markdown",
   "id": "33474b75",
   "metadata": {},
   "source": [
    "#### Properties"
   ]
  },
  {
   "cell_type": "markdown",
   "id": "e38b628f",
   "metadata": {},
   "source": [
    "* The experiment consists of n repeated trials.\n",
    "* Each trial has only two possible outcomes.\n",
    "* The probability of success, denoted p, is the same for each trial.\n",
    "* Each trial is independent."
   ]
  },
  {
   "cell_type": "markdown",
   "id": "890b6e87",
   "metadata": {},
   "source": [
    "<img src=\"https://editor.analyticsvidhya.com/uploads/619621.6.png\">"
   ]
  },
  {
   "cell_type": "markdown",
   "id": "85b83d79",
   "metadata": {},
   "source": [
    "__Ex__ : Suppose we flip a coin 3 times. We can use the formula above to determine the probability of obtaining 0, 1, 2, and 3 heads during these 3 flips"
   ]
  },
  {
   "cell_type": "code",
   "execution_count": 3,
   "id": "432d3115",
   "metadata": {},
   "outputs": [
    {
     "data": {
      "image/png": "[encoded data removed]",
      "text/plain": [
       "<Figure size 640x480 with 1 Axes>"
      ]
     },
     "metadata": {},
     "output_type": "display_data"
    }
   ],
   "source": [
    "import seaborn as sns\n",
    "from scipy.stats import binom\n",
    "n = 3\n",
    "p = 0.5\n",
    "k=[0,1,2,3]\n",
    "sns.barplot(x=k,y=binom.pmf(k,n,p))\n",
    "plt.xlim(-1,4)\n",
    "plt.ylim(0,0.4)\n",
    "plt.xlabel('Values of random variable x (0, 1, 2, 3)', fontsize='10')\n",
    "plt.ylabel('Probability', fontsize='10')\n",
    "plt.show()"
   ]
  },
  {
   "cell_type": "code",
   "execution_count": 5,
   "id": "8534898a",
   "metadata": {},
   "outputs": [
    {
     "data": {
      "text/plain": [
       "0.063852281856"
      ]
     },
     "execution_count": 5,
     "metadata": {},
     "output_type": "execute_result"
    }
   ],
   "source": [
    "#Bob makes 60% of his free-throw attempts. If he shoots 12 free throws,\n",
    "#what is the probability that he makes exactly 10?\n",
    "n = 12\n",
    "p = 0.6\n",
    "k=10\n",
    "binom.pmf(k,n,p)"
   ]
  },
  {
   "cell_type": "code",
   "execution_count": 6,
   "id": "e2669aad",
   "metadata": {},
   "outputs": [
    {
     "data": {
      "text/plain": [
       "0.5"
      ]
     },
     "execution_count": 6,
     "metadata": {},
     "output_type": "execute_result"
    }
   ],
   "source": [
    "# Marty flips a fair coin 5 times. What is the probability that the coin lands on heads 2 times or fewer?\n",
    "n = 5\n",
    "p = 0.5\n",
    "k=2\n",
    "binom.cdf(k,n,p)"
   ]
  },
  {
   "cell_type": "code",
   "execution_count": 7,
   "id": "072a3e60",
   "metadata": {},
   "outputs": [
    {
     "data": {
      "text/plain": [
       "0.1875"
      ]
     },
     "execution_count": 7,
     "metadata": {},
     "output_type": "execute_result"
    }
   ],
   "source": [
    "# Mike flips a fair coin 5 times. What is the probability that the coin lands on heads more than 3 times?\n",
    "n = 5\n",
    "p = 0.5\n",
    "k=3\n",
    "1-binom.cdf(k,n,p)"
   ]
  }
 ],
 "metadata": {
  "kernelspec": {
   "display_name": "Python 3 (ipykernel)",
   "language": "python",
   "name": "python3"
  },
  "language_info": {
   "codemirror_mode": {
    "name": "ipython",
    "version": 3
   },
   "file_extension": ".py",
   "mimetype": "text/x-python",
   "name": "python",
   "nbconvert_exporter": "python",
   "pygments_lexer": "ipython3",
   "version": "3.9.13"
  }
 },
 "nbformat": 4,
 "nbformat_minor": 5
}
